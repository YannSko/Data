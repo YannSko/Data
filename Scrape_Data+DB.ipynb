{
 "cells": [
  {
   "cell_type": "code",
   "execution_count": null,
   "metadata": {},
   "outputs": [],
   "source": [
    "import requests\n",
    "from selenium import webdriver\n",
    "from selenium.webdriver.common.by import By\n",
    "import time\n",
    "import pymongo\n",
    "import pandas as pd\n",
    "\n",
    "client = pymongo.MongoClient(\"mongodb://localhost:27017/\")\n",
    "db = client[\"ydays\"]\n",
    "collection = db[\"quotes\"]\n",
    "\n",
    "driver = webdriver.Chrome()\n",
    "\n",
    "for p in range(1, 11):\n",
    "    driver.get(f'http://quotes.toscrape.com/page/{p}')\n",
    "    time.sleep(3)\n",
    "\n",
    "    div_citations = driver.find_elements(By.CLASS_NAME, \"quote\")\n",
    "    for div_citation in div_citations:\n",
    "        texte = div_citation.find_elements(By.CLASS_NAME, \"text\")\n",
    "        auteur = div_citation.find_elements(By.CLASS_NAME, \"author\")\n",
    "        tags = div_citation.find_elements(By.CLASS_NAME, \"tags\")\n",
    "\n",
    "        tag_names = [tag.text for tag in tags[0].find_elements(By.CLASS_NAME, \"tag\")]\n",
    "        quote = {\"texte\": texte[0].text, \"auteur\": auteur[0].text, \"tags\": tag_names}\n",
    "        collection.insert_one(quote)\n",
    "\n",
    "driver.quit()"
   ]
  }
 ],
 "metadata": {
  "language_info": {
   "name": "python"
  },
  "orig_nbformat": 4
 },
 "nbformat": 4,
 "nbformat_minor": 2
}
